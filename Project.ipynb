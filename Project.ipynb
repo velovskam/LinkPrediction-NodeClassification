{
  "cells": [
    {
      "cell_type": "markdown",
      "metadata": {
        "id": "view-in-github",
        "colab_type": "text"
      },
      "source": [
        "<a href=\"https://colab.research.google.com/github/velovskam/LinkPrediction-NodeClassification/blob/main/Project.ipynb\" target=\"_parent\"><img src=\"https://colab.research.google.com/assets/colab-badge.svg\" alt=\"Open In Colab\"/></a>"
      ]
    },
    {
      "cell_type": "markdown",
      "metadata": {
        "id": "iLavlXitpTbi"
      },
      "source": [
        "I-дел Link Prediction"
      ]
    },
    {
      "cell_type": "markdown",
      "metadata": {
        "id": "Tea-gl5mpgUu"
      },
      "source": [
        "Инсталација на OGB со Python package manager pip со цел да го инсталираме податочното множество ogbl-ppa."
      ]
    },
    {
      "cell_type": "code",
      "execution_count": null,
      "metadata": {
        "colab": {
          "base_uri": "https://localhost:8080/"
        },
        "id": "zgJD0GHDpOhL",
        "outputId": "b8c5cd85-838a-4849-e489-e579fac7d85a"
      },
      "outputs": [
        {
          "output_type": "stream",
          "name": "stdout",
          "text": [
            "Collecting ogb\n",
            "  Downloading ogb-1.3.6-py3-none-any.whl (78 kB)\n",
            "\u001b[?25l     \u001b[90m━━━━━━━━━━━━━━━━━━━━━━━━━━━━━━━━━━━━━━━━\u001b[0m \u001b[32m0.0/78.8 kB\u001b[0m \u001b[31m?\u001b[0m eta \u001b[36m-:--:--\u001b[0m\r\u001b[2K     \u001b[90m━━━━━━━━━━━━━━━━━━━━━━━━━━━━━━━━━━━━━━━━\u001b[0m \u001b[32m78.8/78.8 kB\u001b[0m \u001b[31m3.2 MB/s\u001b[0m eta \u001b[36m0:00:00\u001b[0m\n",
            "\u001b[?25hRequirement already satisfied: torch>=1.6.0 in /usr/local/lib/python3.10/dist-packages (from ogb) (2.0.1+cu118)\n",
            "Requirement already satisfied: numpy>=1.16.0 in /usr/local/lib/python3.10/dist-packages (from ogb) (1.23.5)\n",
            "Requirement already satisfied: tqdm>=4.29.0 in /usr/local/lib/python3.10/dist-packages (from ogb) (4.66.1)\n",
            "Requirement already satisfied: scikit-learn>=0.20.0 in /usr/local/lib/python3.10/dist-packages (from ogb) (1.2.2)\n",
            "Requirement already satisfied: pandas>=0.24.0 in /usr/local/lib/python3.10/dist-packages (from ogb) (1.5.3)\n",
            "Requirement already satisfied: six>=1.12.0 in /usr/local/lib/python3.10/dist-packages (from ogb) (1.16.0)\n",
            "Requirement already satisfied: urllib3>=1.24.0 in /usr/local/lib/python3.10/dist-packages (from ogb) (2.0.4)\n",
            "Collecting outdated>=0.2.0 (from ogb)\n",
            "  Downloading outdated-0.2.2-py2.py3-none-any.whl (7.5 kB)\n",
            "Requirement already satisfied: setuptools>=44 in /usr/local/lib/python3.10/dist-packages (from outdated>=0.2.0->ogb) (67.7.2)\n",
            "Collecting littleutils (from outdated>=0.2.0->ogb)\n",
            "  Downloading littleutils-0.2.2.tar.gz (6.6 kB)\n",
            "  Preparing metadata (setup.py) ... \u001b[?25l\u001b[?25hdone\n",
            "Requirement already satisfied: requests in /usr/local/lib/python3.10/dist-packages (from outdated>=0.2.0->ogb) (2.31.0)\n",
            "Requirement already satisfied: python-dateutil>=2.8.1 in /usr/local/lib/python3.10/dist-packages (from pandas>=0.24.0->ogb) (2.8.2)\n",
            "Requirement already satisfied: pytz>=2020.1 in /usr/local/lib/python3.10/dist-packages (from pandas>=0.24.0->ogb) (2023.3.post1)\n",
            "Requirement already satisfied: scipy>=1.3.2 in /usr/local/lib/python3.10/dist-packages (from scikit-learn>=0.20.0->ogb) (1.11.2)\n",
            "Requirement already satisfied: joblib>=1.1.1 in /usr/local/lib/python3.10/dist-packages (from scikit-learn>=0.20.0->ogb) (1.3.2)\n",
            "Requirement already satisfied: threadpoolctl>=2.0.0 in /usr/local/lib/python3.10/dist-packages (from scikit-learn>=0.20.0->ogb) (3.2.0)\n",
            "Requirement already satisfied: filelock in /usr/local/lib/python3.10/dist-packages (from torch>=1.6.0->ogb) (3.12.2)\n",
            "Requirement already satisfied: typing-extensions in /usr/local/lib/python3.10/dist-packages (from torch>=1.6.0->ogb) (4.5.0)\n",
            "Requirement already satisfied: sympy in /usr/local/lib/python3.10/dist-packages (from torch>=1.6.0->ogb) (1.12)\n",
            "Requirement already satisfied: networkx in /usr/local/lib/python3.10/dist-packages (from torch>=1.6.0->ogb) (3.1)\n",
            "Requirement already satisfied: jinja2 in /usr/local/lib/python3.10/dist-packages (from torch>=1.6.0->ogb) (3.1.2)\n",
            "Requirement already satisfied: triton==2.0.0 in /usr/local/lib/python3.10/dist-packages (from torch>=1.6.0->ogb) (2.0.0)\n",
            "Requirement already satisfied: cmake in /usr/local/lib/python3.10/dist-packages (from triton==2.0.0->torch>=1.6.0->ogb) (3.27.4.1)\n",
            "Requirement already satisfied: lit in /usr/local/lib/python3.10/dist-packages (from triton==2.0.0->torch>=1.6.0->ogb) (16.0.6)\n",
            "Requirement already satisfied: MarkupSafe>=2.0 in /usr/local/lib/python3.10/dist-packages (from jinja2->torch>=1.6.0->ogb) (2.1.3)\n",
            "Requirement already satisfied: charset-normalizer<4,>=2 in /usr/local/lib/python3.10/dist-packages (from requests->outdated>=0.2.0->ogb) (3.2.0)\n",
            "Requirement already satisfied: idna<4,>=2.5 in /usr/local/lib/python3.10/dist-packages (from requests->outdated>=0.2.0->ogb) (3.4)\n",
            "Requirement already satisfied: certifi>=2017.4.17 in /usr/local/lib/python3.10/dist-packages (from requests->outdated>=0.2.0->ogb) (2023.7.22)\n",
            "Requirement already satisfied: mpmath>=0.19 in /usr/local/lib/python3.10/dist-packages (from sympy->torch>=1.6.0->ogb) (1.3.0)\n",
            "Building wheels for collected packages: littleutils\n",
            "  Building wheel for littleutils (setup.py) ... \u001b[?25l\u001b[?25hdone\n",
            "  Created wheel for littleutils: filename=littleutils-0.2.2-py3-none-any.whl size=7028 sha256=3d6b56fce913dd81cb6b1b6b232eafb76bf2e41aed4a9745322e6a799972431c\n",
            "  Stored in directory: /root/.cache/pip/wheels/3d/fe/b0/27a9892da57472e538c7452a721a9cf463cc03cf7379889266\n",
            "Successfully built littleutils\n",
            "Installing collected packages: littleutils, outdated, ogb\n",
            "Successfully installed littleutils-0.2.2 ogb-1.3.6 outdated-0.2.2\n"
          ]
        }
      ],
      "source": [
        "pip install ogb"
      ]
    },
    {
      "cell_type": "code",
      "execution_count": null,
      "metadata": {
        "colab": {
          "base_uri": "https://localhost:8080/"
        },
        "id": "n8GmJQahpa4K",
        "outputId": "f7a847c5-e730-4c77-c277-d2a6a379b8bb"
      },
      "outputs": [
        {
          "output_type": "stream",
          "name": "stdout",
          "text": [
            "Collecting dgl\n",
            "  Downloading dgl-1.1.2-cp310-cp310-manylinux1_x86_64.whl (6.0 MB)\n",
            "\u001b[2K     \u001b[90m━━━━━━━━━━━━━━━━━━━━━━━━━━━━━━━━━━━━━━━━\u001b[0m \u001b[32m6.0/6.0 MB\u001b[0m \u001b[31m30.6 MB/s\u001b[0m eta \u001b[36m0:00:00\u001b[0m\n",
            "\u001b[?25hRequirement already satisfied: numpy>=1.14.0 in /usr/local/lib/python3.10/dist-packages (from dgl) (1.23.5)\n",
            "Requirement already satisfied: scipy>=1.1.0 in /usr/local/lib/python3.10/dist-packages (from dgl) (1.11.2)\n",
            "Requirement already satisfied: networkx>=2.1 in /usr/local/lib/python3.10/dist-packages (from dgl) (3.1)\n",
            "Requirement already satisfied: requests>=2.19.0 in /usr/local/lib/python3.10/dist-packages (from dgl) (2.31.0)\n",
            "Requirement already satisfied: tqdm in /usr/local/lib/python3.10/dist-packages (from dgl) (4.66.1)\n",
            "Requirement already satisfied: psutil>=5.8.0 in /usr/local/lib/python3.10/dist-packages (from dgl) (5.9.5)\n",
            "Requirement already satisfied: charset-normalizer<4,>=2 in /usr/local/lib/python3.10/dist-packages (from requests>=2.19.0->dgl) (3.2.0)\n",
            "Requirement already satisfied: idna<4,>=2.5 in /usr/local/lib/python3.10/dist-packages (from requests>=2.19.0->dgl) (3.4)\n",
            "Requirement already satisfied: urllib3<3,>=1.21.1 in /usr/local/lib/python3.10/dist-packages (from requests>=2.19.0->dgl) (2.0.4)\n",
            "Requirement already satisfied: certifi>=2017.4.17 in /usr/local/lib/python3.10/dist-packages (from requests>=2.19.0->dgl) (2023.7.22)\n",
            "Installing collected packages: dgl\n",
            "Successfully installed dgl-1.1.2\n"
          ]
        }
      ],
      "source": [
        "pip install dgl"
      ]
    },
    {
      "cell_type": "code",
      "execution_count": null,
      "metadata": {
        "colab": {
          "base_uri": "https://localhost:8080/"
        },
        "id": "Rbsxrg8_p2HI",
        "outputId": "b25769af-337f-481e-a685-14857fde46d8"
      },
      "outputs": [
        {
          "output_type": "stream",
          "name": "stdout",
          "text": [
            "Collecting torch-geometric\n",
            "  Downloading torch_geometric-2.3.1.tar.gz (661 kB)\n",
            "\u001b[?25l     \u001b[90m━━━━━━━━━━━━━━━━━━━━━━━━━━━━━━━━━━━━━━━━\u001b[0m \u001b[32m0.0/661.6 kB\u001b[0m \u001b[31m?\u001b[0m eta \u001b[36m-:--:--\u001b[0m\r\u001b[2K     \u001b[91m━━━━━━━━━━━━━━━\u001b[0m\u001b[90m╺\u001b[0m\u001b[90m━━━━━━━━━━━━━━━━━━━━━━━\u001b[0m \u001b[32m256.0/661.6 kB\u001b[0m \u001b[31m7.7 MB/s\u001b[0m eta \u001b[36m0:00:01\u001b[0m\r\u001b[2K     \u001b[90m━━━━━━━━━━━━━━━━━━━━━━━━━━━━━━━━━━━━━━\u001b[0m \u001b[32m661.6/661.6 kB\u001b[0m \u001b[31m12.5 MB/s\u001b[0m eta \u001b[36m0:00:00\u001b[0m\n",
            "\u001b[?25h  Installing build dependencies ... \u001b[?25l\u001b[?25hdone\n",
            "  Getting requirements to build wheel ... \u001b[?25l\u001b[?25hdone\n",
            "  Preparing metadata (pyproject.toml) ... \u001b[?25l\u001b[?25hdone\n",
            "Requirement already satisfied: tqdm in /usr/local/lib/python3.10/dist-packages (from torch-geometric) (4.66.1)\n",
            "Requirement already satisfied: numpy in /usr/local/lib/python3.10/dist-packages (from torch-geometric) (1.23.5)\n",
            "Requirement already satisfied: scipy in /usr/local/lib/python3.10/dist-packages (from torch-geometric) (1.11.2)\n",
            "Requirement already satisfied: jinja2 in /usr/local/lib/python3.10/dist-packages (from torch-geometric) (3.1.2)\n",
            "Requirement already satisfied: requests in /usr/local/lib/python3.10/dist-packages (from torch-geometric) (2.31.0)\n",
            "Requirement already satisfied: pyparsing in /usr/local/lib/python3.10/dist-packages (from torch-geometric) (3.1.1)\n",
            "Requirement already satisfied: scikit-learn in /usr/local/lib/python3.10/dist-packages (from torch-geometric) (1.2.2)\n",
            "Requirement already satisfied: psutil>=5.8.0 in /usr/local/lib/python3.10/dist-packages (from torch-geometric) (5.9.5)\n",
            "Requirement already satisfied: MarkupSafe>=2.0 in /usr/local/lib/python3.10/dist-packages (from jinja2->torch-geometric) (2.1.3)\n",
            "Requirement already satisfied: charset-normalizer<4,>=2 in /usr/local/lib/python3.10/dist-packages (from requests->torch-geometric) (3.2.0)\n",
            "Requirement already satisfied: idna<4,>=2.5 in /usr/local/lib/python3.10/dist-packages (from requests->torch-geometric) (3.4)\n",
            "Requirement already satisfied: urllib3<3,>=1.21.1 in /usr/local/lib/python3.10/dist-packages (from requests->torch-geometric) (2.0.4)\n",
            "Requirement already satisfied: certifi>=2017.4.17 in /usr/local/lib/python3.10/dist-packages (from requests->torch-geometric) (2023.7.22)\n",
            "Requirement already satisfied: joblib>=1.1.1 in /usr/local/lib/python3.10/dist-packages (from scikit-learn->torch-geometric) (1.3.2)\n",
            "Requirement already satisfied: threadpoolctl>=2.0.0 in /usr/local/lib/python3.10/dist-packages (from scikit-learn->torch-geometric) (3.2.0)\n",
            "Building wheels for collected packages: torch-geometric\n",
            "  Building wheel for torch-geometric (pyproject.toml) ... \u001b[?25l\u001b[?25hdone\n",
            "  Created wheel for torch-geometric: filename=torch_geometric-2.3.1-py3-none-any.whl size=910454 sha256=8acdbcb088f5247841f17039df144d4ae7e23b0acf846790ceb35b9f2c0d5b8c\n",
            "  Stored in directory: /root/.cache/pip/wheels/ac/dc/30/e2874821ff308ee67dcd7a66dbde912411e19e35a1addda028\n",
            "Successfully built torch-geometric\n",
            "Installing collected packages: torch-geometric\n",
            "Successfully installed torch-geometric-2.3.1\n"
          ]
        }
      ],
      "source": [
        "pip install torch-geometric"
      ]
    },
    {
      "cell_type": "markdown",
      "metadata": {
        "id": "kflB6kQhpopX"
      },
      "source": [
        "Load library"
      ]
    },
    {
      "cell_type": "code",
      "execution_count": null,
      "metadata": {
        "id": "WRLjQmY5pc-V",
        "colab": {
          "base_uri": "https://localhost:8080/"
        },
        "outputId": "3791f4d0-f660-41c3-f86d-d151c863e954"
      },
      "outputs": [
        {
          "output_type": "stream",
          "name": "stderr",
          "text": [
            "DGL backend not selected or invalid.  Assuming PyTorch for now.\n"
          ]
        },
        {
          "output_type": "stream",
          "name": "stdout",
          "text": [
            "Setting the default backend to \"pytorch\". You can change it in the ~/.dgl/config.json file or export the DGLBACKEND environment variable.  Valid options are: pytorch, mxnet, tensorflow (all lowercase)\n"
          ]
        }
      ],
      "source": [
        "import dgl\n",
        "import torch\n",
        "import torch.nn as nn\n",
        "import dgl.function as fn\n",
        "import torch.optim as optim\n",
        "\n",
        "from ogb.graphproppred import DglGraphPropPredDataset\n",
        "from dgl.dataloading import GraphDataLoader\n",
        "from ogb.linkproppred import DglLinkPropPredDataset\n",
        "from torch_geometric.nn import SAGEConv\n",
        "from sklearn.metrics import roc_auc_score\n",
        "from dgl.nn import SAGEConv"
      ]
    },
    {
      "cell_type": "markdown",
      "metadata": {
        "id": "gSR9_QdAqOH0"
      },
      "source": [
        "Load data"
      ]
    },
    {
      "cell_type": "code",
      "execution_count": null,
      "metadata": {
        "id": "zCNI0viEqJLk",
        "colab": {
          "base_uri": "https://localhost:8080/"
        },
        "outputId": "1b99f045-404f-45c2-c730-8a41abf9ed4e"
      },
      "outputs": [
        {
          "output_type": "stream",
          "name": "stdout",
          "text": [
            "Downloading http://snap.stanford.edu/ogb/data/linkproppred/ppassoc.zip\n"
          ]
        },
        {
          "output_type": "stream",
          "name": "stderr",
          "text": [
            "Downloaded 0.38 GB: 100%|██████████| 388/388 [00:14<00:00, 27.60it/s]\n"
          ]
        },
        {
          "output_type": "stream",
          "name": "stdout",
          "text": [
            "Extracting dataset/ppassoc.zip\n",
            "Loading necessary files...\n",
            "This might take a while.\n",
            "Processing graphs...\n"
          ]
        },
        {
          "output_type": "stream",
          "name": "stderr",
          "text": [
            "100%|██████████| 1/1 [00:00<00:00,  1.96it/s]\n"
          ]
        },
        {
          "output_type": "stream",
          "name": "stdout",
          "text": [
            "Converting graphs into DGL objects...\n"
          ]
        },
        {
          "output_type": "stream",
          "name": "stderr",
          "text": [
            "100%|██████████| 1/1 [00:00<00:00,  5.40it/s]\n"
          ]
        },
        {
          "output_type": "stream",
          "name": "stdout",
          "text": [
            "Saving...\n"
          ]
        }
      ],
      "source": [
        "dataset = DglLinkPropPredDataset(name='ogbl-ppa')"
      ]
    },
    {
      "cell_type": "code",
      "source": [
        "num_edges = dataset[0].number_of_edges()\n",
        "print(f\"Number of edges: {num_edges}\")"
      ],
      "metadata": {
        "colab": {
          "base_uri": "https://localhost:8080/"
        },
        "id": "1PCub9i05wmV",
        "outputId": "a4b28726-0cee-46a3-bd75-6d6bca13eb12"
      },
      "execution_count": null,
      "outputs": [
        {
          "output_type": "stream",
          "name": "stdout",
          "text": [
            "Number of edges: 42463862\n"
          ]
        }
      ]
    },
    {
      "cell_type": "code",
      "execution_count": null,
      "metadata": {
        "colab": {
          "base_uri": "https://localhost:8080/"
        },
        "id": "fXfQ7FRGqTYM",
        "outputId": "f0ce95fe-4710-4ec2-9da5-6ae2ae393ecf"
      },
      "outputs": [
        {
          "output_type": "stream",
          "name": "stdout",
          "text": [
            "dict_keys(['edge'])\n",
            "dict_keys(['edge', 'edge_neg'])\n",
            "dict_keys(['edge', 'edge_neg'])\n"
          ]
        }
      ],
      "source": [
        "#го делиме гарикот на повеќе групи за тренирање, тестирање и валидација\n",
        "split_edge = dataset.get_edge_split()\n",
        "\n",
        "# Retrieve the training edges\n",
        "train_edges = split_edge['train']['edge'].numpy()\n",
        "# Retrieve the validation edges\n",
        "valid_edges = split_edge['valid']['edge'].numpy()\n",
        "# Retrieve the test edges\n",
        "test_edges = split_edge['test']['edge'].numpy()\n",
        "\n",
        "print(split_edge['train'].keys())\n",
        "print(split_edge['valid'].keys())\n",
        "print(split_edge['test'].keys())"
      ]
    },
    {
      "cell_type": "code",
      "execution_count": null,
      "metadata": {
        "colab": {
          "base_uri": "https://localhost:8080/"
        },
        "id": "d9yZzs7Xqatx",
        "outputId": "8977660b-1f41-42bb-d748-c1adf60f8eac"
      },
      "outputs": [
        {
          "output_type": "execute_result",
          "data": {
            "text/plain": [
              "Graph(num_nodes=576289, num_edges=42463862,\n",
              "      ndata_schemes={'feat': Scheme(shape=(58,), dtype=torch.int64)}\n",
              "      edata_schemes={})"
            ]
          },
          "metadata": {},
          "execution_count": 8
        }
      ],
      "source": [
        "g = dataset[0]\n",
        "g\n",
        "#пристап до првиот график"
      ]
    },
    {
      "cell_type": "code",
      "execution_count": null,
      "metadata": {
        "colab": {
          "base_uri": "https://localhost:8080/"
        },
        "id": "9xTBBrc6qcin",
        "outputId": "ef09d56b-a411-4006-9a9a-3092cc79182f"
      },
      "outputs": [
        {
          "output_type": "stream",
          "name": "stdout",
          "text": [
            "Downloading /root/.dgl/citeseer.zip from https://data.dgl.ai/dataset/citeseer.zip...\n",
            "Extracting file to /root/.dgl/citeseer_d6836239\n",
            "Finished data loading and preprocessing.\n",
            "  NumNodes: 3327\n",
            "  NumEdges: 9228\n",
            "  NumFeats: 3703\n",
            "  NumClasses: 6\n",
            "  NumTrainingSamples: 120\n",
            "  NumValidationSamples: 500\n",
            "  NumTestSamples: 1000\n",
            "Done saving data into cached files.\n"
          ]
        }
      ],
      "source": [
        "dataset = dgl.data.CiteseerGraphDataset()\n",
        "g= dataset[0]"
      ]
    },
    {
      "cell_type": "markdown",
      "metadata": {
        "id": "wBiQwdYjqzax"
      },
      "source": [
        "Link Prediction"
      ]
    },
    {
      "cell_type": "code",
      "execution_count": null,
      "metadata": {
        "id": "OrPzlfImqgV_"
      },
      "outputs": [],
      "source": [
        "class DotProductPredictor(nn.Module):\n",
        "    def forward(self, graph, h):\n",
        "        with graph.local_scope():\n",
        "            graph.ndata['h'] = h\n",
        "            graph.apply_edges(fn.u_dot_v('h', 'h', 'score'))\n",
        "            return graph.edata['score']"
      ]
    },
    {
      "cell_type": "code",
      "execution_count": null,
      "metadata": {
        "id": "L1R4pHA9quBC"
      },
      "outputs": [],
      "source": [
        "k=100\n",
        "def construct_negative_graph(graph, k):\n",
        "    src, dst = graph.edges()\n",
        "\n",
        "    neg_src = src.repeat_interleave(k)\n",
        "    neg_dst = torch.randint(0, graph.num_nodes(), (len(src) * k,))\n",
        "    return dgl.graph((neg_src, neg_dst), num_nodes=graph.num_nodes())"
      ]
    },
    {
      "cell_type": "code",
      "execution_count": null,
      "metadata": {
        "id": "Z3ZXN3C-rTT4"
      },
      "outputs": [],
      "source": [
        "in_features = 58\n",
        "hidden_dim = 64\n",
        "out_features = 1\n",
        "num_epochs = 10\n",
        "learning_rate = 0.01\n",
        "batch_size = 64\n",
        "k = 100"
      ]
    },
    {
      "cell_type": "code",
      "execution_count": null,
      "metadata": {
        "id": "4ReDuwR5q8Bu"
      },
      "outputs": [],
      "source": [
        "class SAGE(nn.Module):\n",
        "    def __init__(self, in_feats, hidden_feats, out_feats):\n",
        "        super(SAGE, self).__init__()\n",
        "        self.sage_conv = SAGEConv(in_feats, hidden_feats, aggregator_type='mean')\n",
        "        self.fc = nn.Linear(hidden_feats, out_feats)\n",
        "\n",
        "    def forward(self, g, x):\n",
        "        h = self.sage_conv(g, x)\n",
        "        h = self.fc(h)\n",
        "        return h"
      ]
    },
    {
      "cell_type": "code",
      "execution_count": null,
      "metadata": {
        "id": "NwvXciq0rEdi"
      },
      "outputs": [],
      "source": [
        "class Model(nn.Module):\n",
        "    def __init__(self, in_features, hidden_features, out_features):\n",
        "        super().__init__()\n",
        "        self.sage = SAGE(in_features, hidden_features, out_features)\n",
        "        self.pred = DotProductPredictor()\n",
        "    def forward(self, g, neg_g, x):\n",
        "        h = self.sage(g, x)\n",
        "        return self.pred(g, h), self.pred(neg_g, h)"
      ]
    },
    {
      "cell_type": "code",
      "execution_count": null,
      "metadata": {
        "id": "e3pDEDAyrkXL"
      },
      "outputs": [],
      "source": [
        "def compute_auc(pos_score, neg_score):\n",
        "    y_true = [1] * len(pos_score) + [0] * len(neg_score)\n",
        "    y_scores = torch.cat([pos_score, neg_score]).cpu().numpy()\n",
        "    return roc_auc_score(y_true, y_scores)"
      ]
    },
    {
      "cell_type": "code",
      "source": [
        "def evaluate(model, graph, features, labels, mask):\n",
        "    model.eval()\n",
        "    with torch.no_grad():\n",
        "        logits = model(graph, features)\n",
        "        logits = logits[mask]\n",
        "        labels = labels[mask]\n",
        "        _, indices = torch.max(logits, dim=1)\n",
        "        correct = torch.sum(indices == labels)\n",
        "        return correct.item() * 1.0 / len(labels)"
      ],
      "metadata": {
        "id": "l1rXSDSpOy32"
      },
      "execution_count": null,
      "outputs": []
    },
    {
      "cell_type": "markdown",
      "metadata": {
        "id": "R3RQNEEfrtHB"
      },
      "source": [
        "Training"
      ]
    },
    {
      "cell_type": "code",
      "execution_count": null,
      "metadata": {
        "colab": {
          "base_uri": "https://localhost:8080/"
        },
        "id": "nKnWG5ICrGtx",
        "outputId": "797a01e6-aac4-4bc2-d232-8f52f6ada070"
      },
      "outputs": [
        {
          "output_type": "stream",
          "name": "stdout",
          "text": [
            "Epoch [1/10] 0.9997650384902954\n",
            "Epoch [2/10] 0.998723566532135\n",
            "Epoch [3/10] 0.9975135326385498\n",
            "Epoch [4/10] 0.9959850311279297\n",
            "Epoch [5/10] 0.993999719619751\n",
            "Epoch [6/10] 0.9914907217025757\n",
            "Epoch [7/10] 0.9882992506027222\n",
            "Epoch [8/10] 0.9844083786010742\n",
            "Epoch [9/10] 0.9796165227890015\n",
            "Epoch [10/10] 0.973762571811676\n",
            "Training finished.\n"
          ]
        }
      ],
      "source": [
        "def compute_loss(pos_score, neg_score):\n",
        "    # Margin loss\n",
        "    n_edges = pos_score.shape[0]\n",
        "    return (1 - pos_score + neg_score.view(n_edges, -1)).clamp(min=0).mean()\n",
        "\n",
        "node_features = g.ndata['feat']\n",
        "n_features = node_features.shape[1]\n",
        "k = 100\n",
        "loss_function = torch.nn.CrossEntropyLoss()\n",
        "model = Model(n_features, 100, 100)\n",
        "opt = torch.optim.Adam(model.parameters())\n",
        "for epoch in range(10):\n",
        "    model.train()\n",
        "    negative_graph = construct_negative_graph(g, k)\n",
        "    pos_score, neg_score = model(g, negative_graph, node_features)\n",
        "    loss = compute_loss(pos_score, neg_score)\n",
        "    opt.zero_grad()\n",
        "    loss.backward()\n",
        "    opt.step()\n",
        "    print(f'Epoch [{epoch+1}/{num_epochs}]', loss.item())\n",
        "\n",
        "print('Training finished.')"
      ]
    },
    {
      "cell_type": "markdown",
      "source": [
        "II-дел Node Classification"
      ],
      "metadata": {
        "id": "JEszaimpPHq0"
      }
    },
    {
      "cell_type": "code",
      "source": [
        "pip install ogb"
      ],
      "metadata": {
        "colab": {
          "base_uri": "https://localhost:8080/"
        },
        "id": "zkoPKawFPIDs",
        "outputId": "aecd68bd-16bc-420e-df29-1ac1d4f0e387"
      },
      "execution_count": null,
      "outputs": [
        {
          "output_type": "stream",
          "name": "stdout",
          "text": [
            "Collecting ogb\n",
            "  Downloading ogb-1.3.6-py3-none-any.whl (78 kB)\n",
            "\u001b[2K     \u001b[90m━━━━━━━━━━━━━━━━━━━━━━━━━━━━━━━━━━━━━━━\u001b[0m \u001b[32m78.8/78.8 kB\u001b[0m \u001b[31m927.7 kB/s\u001b[0m eta \u001b[36m0:00:00\u001b[0m\n",
            "\u001b[?25hRequirement already satisfied: torch>=1.6.0 in /usr/local/lib/python3.10/dist-packages (from ogb) (2.0.1+cu118)\n",
            "Requirement already satisfied: numpy>=1.16.0 in /usr/local/lib/python3.10/dist-packages (from ogb) (1.23.5)\n",
            "Requirement already satisfied: tqdm>=4.29.0 in /usr/local/lib/python3.10/dist-packages (from ogb) (4.66.1)\n",
            "Requirement already satisfied: scikit-learn>=0.20.0 in /usr/local/lib/python3.10/dist-packages (from ogb) (1.2.2)\n",
            "Requirement already satisfied: pandas>=0.24.0 in /usr/local/lib/python3.10/dist-packages (from ogb) (1.5.3)\n",
            "Requirement already satisfied: six>=1.12.0 in /usr/local/lib/python3.10/dist-packages (from ogb) (1.16.0)\n",
            "Requirement already satisfied: urllib3>=1.24.0 in /usr/local/lib/python3.10/dist-packages (from ogb) (2.0.4)\n",
            "Collecting outdated>=0.2.0 (from ogb)\n",
            "  Downloading outdated-0.2.2-py2.py3-none-any.whl (7.5 kB)\n",
            "Requirement already satisfied: setuptools>=44 in /usr/local/lib/python3.10/dist-packages (from outdated>=0.2.0->ogb) (67.7.2)\n",
            "Collecting littleutils (from outdated>=0.2.0->ogb)\n",
            "  Downloading littleutils-0.2.2.tar.gz (6.6 kB)\n",
            "  Preparing metadata (setup.py) ... \u001b[?25l\u001b[?25hdone\n",
            "Requirement already satisfied: requests in /usr/local/lib/python3.10/dist-packages (from outdated>=0.2.0->ogb) (2.31.0)\n",
            "Requirement already satisfied: python-dateutil>=2.8.1 in /usr/local/lib/python3.10/dist-packages (from pandas>=0.24.0->ogb) (2.8.2)\n",
            "Requirement already satisfied: pytz>=2020.1 in /usr/local/lib/python3.10/dist-packages (from pandas>=0.24.0->ogb) (2023.3.post1)\n",
            "Requirement already satisfied: scipy>=1.3.2 in /usr/local/lib/python3.10/dist-packages (from scikit-learn>=0.20.0->ogb) (1.11.2)\n",
            "Requirement already satisfied: joblib>=1.1.1 in /usr/local/lib/python3.10/dist-packages (from scikit-learn>=0.20.0->ogb) (1.3.2)\n",
            "Requirement already satisfied: threadpoolctl>=2.0.0 in /usr/local/lib/python3.10/dist-packages (from scikit-learn>=0.20.0->ogb) (3.2.0)\n",
            "Requirement already satisfied: filelock in /usr/local/lib/python3.10/dist-packages (from torch>=1.6.0->ogb) (3.12.2)\n",
            "Requirement already satisfied: typing-extensions in /usr/local/lib/python3.10/dist-packages (from torch>=1.6.0->ogb) (4.5.0)\n",
            "Requirement already satisfied: sympy in /usr/local/lib/python3.10/dist-packages (from torch>=1.6.0->ogb) (1.12)\n",
            "Requirement already satisfied: networkx in /usr/local/lib/python3.10/dist-packages (from torch>=1.6.0->ogb) (3.1)\n",
            "Requirement already satisfied: jinja2 in /usr/local/lib/python3.10/dist-packages (from torch>=1.6.0->ogb) (3.1.2)\n",
            "Requirement already satisfied: triton==2.0.0 in /usr/local/lib/python3.10/dist-packages (from torch>=1.6.0->ogb) (2.0.0)\n",
            "Requirement already satisfied: cmake in /usr/local/lib/python3.10/dist-packages (from triton==2.0.0->torch>=1.6.0->ogb) (3.27.4.1)\n",
            "Requirement already satisfied: lit in /usr/local/lib/python3.10/dist-packages (from triton==2.0.0->torch>=1.6.0->ogb) (16.0.6)\n",
            "Requirement already satisfied: MarkupSafe>=2.0 in /usr/local/lib/python3.10/dist-packages (from jinja2->torch>=1.6.0->ogb) (2.1.3)\n",
            "Requirement already satisfied: charset-normalizer<4,>=2 in /usr/local/lib/python3.10/dist-packages (from requests->outdated>=0.2.0->ogb) (3.2.0)\n",
            "Requirement already satisfied: idna<4,>=2.5 in /usr/local/lib/python3.10/dist-packages (from requests->outdated>=0.2.0->ogb) (3.4)\n",
            "Requirement already satisfied: certifi>=2017.4.17 in /usr/local/lib/python3.10/dist-packages (from requests->outdated>=0.2.0->ogb) (2023.7.22)\n",
            "Requirement already satisfied: mpmath>=0.19 in /usr/local/lib/python3.10/dist-packages (from sympy->torch>=1.6.0->ogb) (1.3.0)\n",
            "Building wheels for collected packages: littleutils\n",
            "  Building wheel for littleutils (setup.py) ... \u001b[?25l\u001b[?25hdone\n",
            "  Created wheel for littleutils: filename=littleutils-0.2.2-py3-none-any.whl size=7028 sha256=1fd2283bb5481e0ff0146d6db021005a48d2c79206f90e2352e8f555b3484584\n",
            "  Stored in directory: /root/.cache/pip/wheels/3d/fe/b0/27a9892da57472e538c7452a721a9cf463cc03cf7379889266\n",
            "Successfully built littleutils\n",
            "Installing collected packages: littleutils, outdated, ogb\n",
            "Successfully installed littleutils-0.2.2 ogb-1.3.6 outdated-0.2.2\n"
          ]
        }
      ]
    },
    {
      "cell_type": "code",
      "source": [
        "pip install dgl"
      ],
      "metadata": {
        "colab": {
          "base_uri": "https://localhost:8080/"
        },
        "id": "9RCPBGkRPKRb",
        "outputId": "48c75736-58aa-4ca9-8163-251263a21b74"
      },
      "execution_count": null,
      "outputs": [
        {
          "output_type": "stream",
          "name": "stdout",
          "text": [
            "Collecting dgl\n",
            "  Downloading dgl-1.1.2-cp310-cp310-manylinux1_x86_64.whl (6.0 MB)\n",
            "\u001b[2K     \u001b[90m━━━━━━━━━━━━━━━━━━━━━━━━━━━━━━━━━━━━━━━━\u001b[0m \u001b[32m6.0/6.0 MB\u001b[0m \u001b[31m13.2 MB/s\u001b[0m eta \u001b[36m0:00:00\u001b[0m\n",
            "\u001b[?25hRequirement already satisfied: numpy>=1.14.0 in /usr/local/lib/python3.10/dist-packages (from dgl) (1.23.5)\n",
            "Requirement already satisfied: scipy>=1.1.0 in /usr/local/lib/python3.10/dist-packages (from dgl) (1.11.2)\n",
            "Requirement already satisfied: networkx>=2.1 in /usr/local/lib/python3.10/dist-packages (from dgl) (3.1)\n",
            "Requirement already satisfied: requests>=2.19.0 in /usr/local/lib/python3.10/dist-packages (from dgl) (2.31.0)\n",
            "Requirement already satisfied: tqdm in /usr/local/lib/python3.10/dist-packages (from dgl) (4.66.1)\n",
            "Requirement already satisfied: psutil>=5.8.0 in /usr/local/lib/python3.10/dist-packages (from dgl) (5.9.5)\n",
            "Requirement already satisfied: charset-normalizer<4,>=2 in /usr/local/lib/python3.10/dist-packages (from requests>=2.19.0->dgl) (3.2.0)\n",
            "Requirement already satisfied: idna<4,>=2.5 in /usr/local/lib/python3.10/dist-packages (from requests>=2.19.0->dgl) (3.4)\n",
            "Requirement already satisfied: urllib3<3,>=1.21.1 in /usr/local/lib/python3.10/dist-packages (from requests>=2.19.0->dgl) (2.0.4)\n",
            "Requirement already satisfied: certifi>=2017.4.17 in /usr/local/lib/python3.10/dist-packages (from requests>=2.19.0->dgl) (2023.7.22)\n",
            "Installing collected packages: dgl\n",
            "Successfully installed dgl-1.1.2\n"
          ]
        }
      ]
    },
    {
      "cell_type": "markdown",
      "source": [
        "Load library"
      ],
      "metadata": {
        "id": "q0UdtATSPz3i"
      }
    },
    {
      "cell_type": "code",
      "source": [
        "import dgl\n",
        "import torch\n",
        "import dgl.nn as dglnn\n",
        "import torch.nn as nn\n",
        "import torch.nn.functional as F\n",
        "\n",
        "from ogb.nodeproppred import DglNodePropPredDataset"
      ],
      "metadata": {
        "id": "GjxJFWJYPMVg"
      },
      "execution_count": null,
      "outputs": []
    },
    {
      "cell_type": "markdown",
      "source": [
        "Load data"
      ],
      "metadata": {
        "id": "bncsdUpNP2XG"
      }
    },
    {
      "cell_type": "code",
      "source": [
        "dataset = DglNodePropPredDataset(name='ogbn-arxiv')"
      ],
      "metadata": {
        "colab": {
          "base_uri": "https://localhost:8080/"
        },
        "id": "X81VtGSzPOZA",
        "outputId": "0bd10ce6-937b-486c-ce93-198c10c564e5"
      },
      "execution_count": null,
      "outputs": [
        {
          "output_type": "stream",
          "name": "stdout",
          "text": [
            "Downloading http://snap.stanford.edu/ogb/data/nodeproppred/arxiv.zip\n"
          ]
        },
        {
          "output_type": "stream",
          "name": "stderr",
          "text": [
            "Downloaded 0.08 GB: 100%|██████████| 81/81 [00:06<00:00, 13.20it/s]\n"
          ]
        },
        {
          "output_type": "stream",
          "name": "stdout",
          "text": [
            "Extracting dataset/arxiv.zip\n",
            "Loading necessary files...\n",
            "This might take a while.\n",
            "Processing graphs...\n"
          ]
        },
        {
          "output_type": "stream",
          "name": "stderr",
          "text": [
            "100%|██████████| 1/1 [00:00<00:00, 2154.24it/s]\n"
          ]
        },
        {
          "output_type": "stream",
          "name": "stdout",
          "text": [
            "Converting graphs into DGL objects...\n"
          ]
        },
        {
          "output_type": "stream",
          "name": "stderr",
          "text": [
            "100%|██████████| 1/1 [00:00<00:00, 174.78it/s]"
          ]
        },
        {
          "output_type": "stream",
          "name": "stdout",
          "text": [
            "Saving...\n"
          ]
        },
        {
          "output_type": "stream",
          "name": "stderr",
          "text": [
            "\n"
          ]
        }
      ]
    },
    {
      "cell_type": "code",
      "source": [
        "#го делиме гарикот на повеќе групи за тренирање, тестирање и валидација\n",
        "split_idx = dataset.get_idx_split()\n",
        "g, labels = dataset[0]\n",
        "# get split labels\n",
        "train_label = dataset.labels[split_idx['train']]\n",
        "valid_label = dataset.labels[split_idx['valid']]\n",
        "test_label = dataset.labels[split_idx['test']]"
      ],
      "metadata": {
        "id": "ok2m0cASPP82"
      },
      "execution_count": null,
      "outputs": []
    },
    {
      "cell_type": "code",
      "source": [
        "graph = dataset[0]\n",
        "graph"
      ],
      "metadata": {
        "colab": {
          "base_uri": "https://localhost:8080/"
        },
        "id": "Fu7dGpe3PRSG",
        "outputId": "635f7061-bab4-4210-c73f-ea0e9389ec1f"
      },
      "execution_count": null,
      "outputs": [
        {
          "output_type": "execute_result",
          "data": {
            "text/plain": [
              "(Graph(num_nodes=169343, num_edges=1166243,\n",
              "       ndata_schemes={'year': Scheme(shape=(1,), dtype=torch.int64), 'feat': Scheme(shape=(128,), dtype=torch.float32)}\n",
              "       edata_schemes={}),\n",
              " tensor([[ 4],\n",
              "         [ 5],\n",
              "         [28],\n",
              "         ...,\n",
              "         [10],\n",
              "         [ 4],\n",
              "         [ 1]]))"
            ]
          },
          "metadata": {},
          "execution_count": 6
        }
      ]
    },
    {
      "cell_type": "markdown",
      "source": [
        "Node Classification"
      ],
      "metadata": {
        "id": "edn15ZHkP4wJ"
      }
    },
    {
      "cell_type": "code",
      "source": [
        "class SAGE(nn.Module):\n",
        "    def __init__(self, in_feats, hid_feats, out_feats, dropout_prob=0.5):\n",
        "        super().__init__()\n",
        "        self.conv1 = dglnn.SAGEConv(\n",
        "            in_feats=in_feats, out_feats=hid_feats, aggregator_type='mean')\n",
        "        self.conv2 = dglnn.SAGEConv(\n",
        "            in_feats=hid_feats, out_feats=out_feats, aggregator_type='mean')\n",
        "        self.dropout = nn.Dropout(dropout_prob)\n",
        "\n",
        "    def forward(self, graph, inputs):\n",
        "        h = self.conv1(graph, inputs)\n",
        "        h = F.relu(h)\n",
        "        h = self.dropout(h)  # Apply dropout\n",
        "        h = self.conv2(graph, h)\n",
        "        return h\n"
      ],
      "metadata": {
        "id": "BnCbo1hsPSoI"
      },
      "execution_count": null,
      "outputs": []
    },
    {
      "cell_type": "code",
      "source": [
        "dataset = dgl.data.CiteseerGraphDataset()\n",
        "graph = dataset[0]\n",
        "graph"
      ],
      "metadata": {
        "colab": {
          "base_uri": "https://localhost:8080/"
        },
        "id": "I08rGCROPXXX",
        "outputId": "8be772cd-f0a1-4b1c-96e0-f32652485c59"
      },
      "execution_count": null,
      "outputs": [
        {
          "output_type": "stream",
          "name": "stdout",
          "text": [
            "Downloading /root/.dgl/citeseer.zip from https://data.dgl.ai/dataset/citeseer.zip...\n",
            "Extracting file to /root/.dgl/citeseer_d6836239\n",
            "Finished data loading and preprocessing.\n",
            "  NumNodes: 3327\n",
            "  NumEdges: 9228\n",
            "  NumFeats: 3703\n",
            "  NumClasses: 6\n",
            "  NumTrainingSamples: 120\n",
            "  NumValidationSamples: 500\n",
            "  NumTestSamples: 1000\n",
            "Done saving data into cached files.\n"
          ]
        },
        {
          "output_type": "execute_result",
          "data": {
            "text/plain": [
              "Graph(num_nodes=3327, num_edges=9228,\n",
              "      ndata_schemes={'train_mask': Scheme(shape=(), dtype=torch.bool), 'val_mask': Scheme(shape=(), dtype=torch.bool), 'test_mask': Scheme(shape=(), dtype=torch.bool), 'label': Scheme(shape=(), dtype=torch.int64), 'feat': Scheme(shape=(3703,), dtype=torch.float32)}\n",
              "      edata_schemes={})"
            ]
          },
          "metadata": {},
          "execution_count": 8
        }
      ]
    },
    {
      "cell_type": "code",
      "source": [
        "node_features = graph.ndata['feat']\n",
        "node_labels = graph.ndata['label']\n",
        "train_mask = graph.ndata['train_mask']\n",
        "valid_mask = graph.ndata['val_mask']\n",
        "test_mask = graph.ndata['test_mask']\n",
        "n_features = node_features.shape[1]\n",
        "n_labels = int(node_labels.max().item() + 1)"
      ],
      "metadata": {
        "id": "ixk9vMB1PZn4"
      },
      "execution_count": null,
      "outputs": []
    },
    {
      "cell_type": "code",
      "source": [
        "def evaluate(model, graph, features, labels, mask):\n",
        "    model.eval()\n",
        "    with torch.no_grad():\n",
        "        logits = model(graph, features)\n",
        "        logits = logits[mask]\n",
        "        labels = labels[mask]\n",
        "        _, indices = torch.max(logits, dim=1)\n",
        "        correct = torch.sum(indices == labels)\n",
        "        return correct.item() * 1.0 / len(labels)"
      ],
      "metadata": {
        "id": "4WjZzAjtPcID"
      },
      "execution_count": null,
      "outputs": []
    },
    {
      "cell_type": "code",
      "source": [
        "def accuracy(output, labels):\n",
        "    preds = output.max(1)[1].type_as(labels)\n",
        "    correct = preds.eq(labels).double()\n",
        "    correct = correct.sum()\n",
        "    return correct / len(labels)"
      ],
      "metadata": {
        "id": "oe2e2ZRrPdlx"
      },
      "execution_count": null,
      "outputs": []
    },
    {
      "cell_type": "code",
      "source": [
        "n_feats = 128\n",
        "hid_feats = 200\n",
        "n_labels = 40\n",
        "num_epochs=100"
      ],
      "metadata": {
        "id": "uzJtcrL8PfFT"
      },
      "execution_count": null,
      "outputs": []
    },
    {
      "cell_type": "markdown",
      "source": [
        "Training"
      ],
      "metadata": {
        "id": "RPohdNv5Pvic"
      }
    },
    {
      "cell_type": "code",
      "source": [
        "model = SAGE(in_feats=n_features, hid_feats=200, out_feats=n_labels)\n",
        "opt = torch.optim.Adam(model.parameters(),lr=0.001,weight_decay = 5e-4)\n",
        "\n",
        "\n",
        "for epoch in range(num_epochs):\n",
        "    model.train()\n",
        "    # forward propagation by using all nodes\n",
        "    logits = model(graph, node_features)\n",
        "    # compute loss\n",
        "    loss = F.cross_entropy(logits[train_mask], node_labels[train_mask])\n",
        "    # compute validation accuracy\n",
        "    acc = evaluate(model, graph, node_features, node_labels, valid_mask)\n",
        "    # backward propagation\n",
        "    opt.zero_grad()\n",
        "    loss.backward()\n",
        "    opt.step()\n",
        "    print(f'Epoch [{epoch+1}/{num_epochs}]',loss.item(), f'Accuracy: {acc * 100:.2f}%')\n",
        "\n",
        "print('Training finished.')"
      ],
      "metadata": {
        "colab": {
          "base_uri": "https://localhost:8080/"
        },
        "id": "mHRJ0P-DPgmz",
        "outputId": "603713ad-8ff4-4b18-b449-dc9880465651"
      },
      "execution_count": null,
      "outputs": [
        {
          "output_type": "stream",
          "name": "stdout",
          "text": [
            "Epoch [1/100] 3.700935125350952 Accuracy: 0.00%\n",
            "Epoch [2/100] 3.6745142936706543 Accuracy: 1.00%\n",
            "Epoch [3/100] 3.653712511062622 Accuracy: 10.20%\n",
            "Epoch [4/100] 3.628223180770874 Accuracy: 23.00%\n",
            "Epoch [5/100] 3.6029293537139893 Accuracy: 27.40%\n",
            "Epoch [6/100] 3.5807981491088867 Accuracy: 29.60%\n",
            "Epoch [7/100] 3.557154417037964 Accuracy: 30.80%\n",
            "Epoch [8/100] 3.529545783996582 Accuracy: 32.00%\n",
            "Epoch [9/100] 3.503796100616455 Accuracy: 32.40%\n",
            "Epoch [10/100] 3.4699461460113525 Accuracy: 33.80%\n",
            "Epoch [11/100] 3.437971353530884 Accuracy: 35.60%\n",
            "Epoch [12/100] 3.3989298343658447 Accuracy: 37.20%\n",
            "Epoch [13/100] 3.3664984703063965 Accuracy: 39.80%\n",
            "Epoch [14/100] 3.3295505046844482 Accuracy: 42.00%\n",
            "Epoch [15/100] 3.2847697734832764 Accuracy: 43.40%\n",
            "Epoch [16/100] 3.2414157390594482 Accuracy: 45.40%\n",
            "Epoch [17/100] 3.197202205657959 Accuracy: 46.60%\n",
            "Epoch [18/100] 3.1551849842071533 Accuracy: 48.40%\n",
            "Epoch [19/100] 3.11104679107666 Accuracy: 50.20%\n",
            "Epoch [20/100] 3.0566329956054688 Accuracy: 51.00%\n",
            "Epoch [21/100] 2.9994664192199707 Accuracy: 50.80%\n",
            "Epoch [22/100] 2.9400084018707275 Accuracy: 51.00%\n",
            "Epoch [23/100] 2.8922719955444336 Accuracy: 52.00%\n",
            "Epoch [24/100] 2.8322622776031494 Accuracy: 52.20%\n",
            "Epoch [25/100] 2.7731525897979736 Accuracy: 53.20%\n",
            "Epoch [26/100] 2.701904058456421 Accuracy: 53.60%\n",
            "Epoch [27/100] 2.6468148231506348 Accuracy: 53.60%\n",
            "Epoch [28/100] 2.579869270324707 Accuracy: 54.00%\n",
            "Epoch [29/100] 2.50720477104187 Accuracy: 54.00%\n",
            "Epoch [30/100] 2.469165086746216 Accuracy: 53.80%\n",
            "Epoch [31/100] 2.361311197280884 Accuracy: 53.80%\n",
            "Epoch [32/100] 2.3310189247131348 Accuracy: 53.40%\n",
            "Epoch [33/100] 2.2411811351776123 Accuracy: 53.20%\n",
            "Epoch [34/100] 2.1856813430786133 Accuracy: 53.60%\n",
            "Epoch [35/100] 2.134437084197998 Accuracy: 54.00%\n",
            "Epoch [36/100] 2.0599541664123535 Accuracy: 54.20%\n",
            "Epoch [37/100] 1.9909594058990479 Accuracy: 54.40%\n",
            "Epoch [38/100] 1.9206539392471313 Accuracy: 55.20%\n",
            "Epoch [39/100] 1.8794711828231812 Accuracy: 54.80%\n",
            "Epoch [40/100] 1.8148176670074463 Accuracy: 54.80%\n",
            "Epoch [41/100] 1.7457845211029053 Accuracy: 55.20%\n",
            "Epoch [42/100] 1.69922935962677 Accuracy: 55.60%\n",
            "Epoch [43/100] 1.6340525150299072 Accuracy: 56.00%\n",
            "Epoch [44/100] 1.5950039625167847 Accuracy: 56.40%\n",
            "Epoch [45/100] 1.5671961307525635 Accuracy: 56.00%\n",
            "Epoch [46/100] 1.5371901988983154 Accuracy: 56.40%\n",
            "Epoch [47/100] 1.4652513265609741 Accuracy: 56.60%\n",
            "Epoch [48/100] 1.4456787109375 Accuracy: 57.20%\n",
            "Epoch [49/100] 1.3822740316390991 Accuracy: 58.60%\n",
            "Epoch [50/100] 1.381665825843811 Accuracy: 60.00%\n",
            "Epoch [51/100] 1.3417391777038574 Accuracy: 61.20%\n",
            "Epoch [52/100] 1.2997738122940063 Accuracy: 61.60%\n",
            "Epoch [53/100] 1.2544413805007935 Accuracy: 62.00%\n",
            "Epoch [54/100] 1.2431292533874512 Accuracy: 62.60%\n",
            "Epoch [55/100] 1.2164987325668335 Accuracy: 63.00%\n",
            "Epoch [56/100] 1.1906051635742188 Accuracy: 63.00%\n",
            "Epoch [57/100] 1.1570794582366943 Accuracy: 63.80%\n",
            "Epoch [58/100] 1.1621206998825073 Accuracy: 64.00%\n",
            "Epoch [59/100] 1.1226660013198853 Accuracy: 65.20%\n",
            "Epoch [60/100] 1.0910601615905762 Accuracy: 66.20%\n",
            "Epoch [61/100] 1.0951937437057495 Accuracy: 66.80%\n",
            "Epoch [62/100] 1.0804260969161987 Accuracy: 68.00%\n",
            "Epoch [63/100] 1.0460249185562134 Accuracy: 68.40%\n",
            "Epoch [64/100] 1.0508090257644653 Accuracy: 68.20%\n",
            "Epoch [65/100] 0.9918768405914307 Accuracy: 69.20%\n",
            "Epoch [66/100] 1.0017911195755005 Accuracy: 69.00%\n",
            "Epoch [67/100] 0.9788171052932739 Accuracy: 69.40%\n",
            "Epoch [68/100] 0.9245151281356812 Accuracy: 69.00%\n",
            "Epoch [69/100] 0.9274545907974243 Accuracy: 69.00%\n",
            "Epoch [70/100] 0.9096272587776184 Accuracy: 69.00%\n",
            "Epoch [71/100] 0.8816865682601929 Accuracy: 69.40%\n",
            "Epoch [72/100] 0.8927438855171204 Accuracy: 69.80%\n",
            "Epoch [73/100] 0.8729050755500793 Accuracy: 69.60%\n",
            "Epoch [74/100] 0.8319867253303528 Accuracy: 69.60%\n",
            "Epoch [75/100] 0.818364143371582 Accuracy: 69.60%\n",
            "Epoch [76/100] 0.8161496520042419 Accuracy: 69.80%\n",
            "Epoch [77/100] 0.8030946850776672 Accuracy: 69.80%\n",
            "Epoch [78/100] 0.7791042923927307 Accuracy: 70.00%\n",
            "Epoch [79/100] 0.7530667185783386 Accuracy: 70.00%\n",
            "Epoch [80/100] 0.7572209239006042 Accuracy: 70.20%\n",
            "Epoch [81/100] 0.7526939511299133 Accuracy: 70.20%\n",
            "Epoch [82/100] 0.737206220626831 Accuracy: 70.20%\n",
            "Epoch [83/100] 0.7115381956100464 Accuracy: 70.00%\n",
            "Epoch [84/100] 0.7055405974388123 Accuracy: 70.00%\n",
            "Epoch [85/100] 0.7003860473632812 Accuracy: 70.00%\n",
            "Epoch [86/100] 0.6867596507072449 Accuracy: 70.00%\n",
            "Epoch [87/100] 0.6737776398658752 Accuracy: 70.00%\n",
            "Epoch [88/100] 0.6653463244438171 Accuracy: 69.80%\n",
            "Epoch [89/100] 0.6434396505355835 Accuracy: 69.80%\n",
            "Epoch [90/100] 0.6196380853652954 Accuracy: 69.80%\n",
            "Epoch [91/100] 0.626213014125824 Accuracy: 70.00%\n",
            "Epoch [92/100] 0.6144930124282837 Accuracy: 70.00%\n",
            "Epoch [93/100] 0.5951448082923889 Accuracy: 70.00%\n",
            "Epoch [94/100] 0.5878536105155945 Accuracy: 70.20%\n",
            "Epoch [95/100] 0.5872116088867188 Accuracy: 70.20%\n",
            "Epoch [96/100] 0.5673691034317017 Accuracy: 70.40%\n",
            "Epoch [97/100] 0.5736584067344666 Accuracy: 70.00%\n",
            "Epoch [98/100] 0.5389193892478943 Accuracy: 70.00%\n",
            "Epoch [99/100] 0.5186346769332886 Accuracy: 70.00%\n",
            "Epoch [100/100] 0.524232029914856 Accuracy: 70.00%\n",
            "Training finished.\n"
          ]
        }
      ]
    },
    {
      "cell_type": "markdown",
      "source": [
        "Evaluation + Testing"
      ],
      "metadata": {
        "id": "cxnN1JoXP8fH"
      }
    },
    {
      "cell_type": "code",
      "source": [
        "# After training loop\n",
        "model.eval()\n",
        "val_accuracy = evaluate(model, graph, node_features, node_labels, valid_mask)\n",
        "print(f'Validation Accuracy: {val_accuracy * 100:.2f}%')"
      ],
      "metadata": {
        "colab": {
          "base_uri": "https://localhost:8080/"
        },
        "id": "IN8RfYBcPiFa",
        "outputId": "2749f48a-ad9c-478a-c3ab-d54e1f0ad069"
      },
      "execution_count": null,
      "outputs": [
        {
          "output_type": "stream",
          "name": "stdout",
          "text": [
            "Validation Accuracy: 70.00%\n"
          ]
        }
      ]
    },
    {
      "cell_type": "code",
      "source": [
        "test_accuracy = evaluate(model, graph, node_features, node_labels, test_mask)\n",
        "print(f'Test Accuracy: {test_accuracy * 100:.2f}%')"
      ],
      "metadata": {
        "colab": {
          "base_uri": "https://localhost:8080/"
        },
        "id": "6ogsnAejPoKT",
        "outputId": "e829158f-0b32-4013-9230-a4ee958075c0"
      },
      "execution_count": null,
      "outputs": [
        {
          "output_type": "stream",
          "name": "stdout",
          "text": [
            "Test Accuracy: 68.30%\n"
          ]
        }
      ]
    },
    {
      "cell_type": "markdown",
      "source": [
        "III-дел CORA DATASET"
      ],
      "metadata": {
        "id": "vxJD9WIlOWEs"
      }
    },
    {
      "cell_type": "code",
      "source": [
        "!pip install dgl-cu110 dglgo -f https://data.dgl.ai/wheels/repo.html &>/dev/null"
      ],
      "metadata": {
        "id": "uKozMKWpOcDn"
      },
      "execution_count": null,
      "outputs": []
    },
    {
      "cell_type": "code",
      "source": [
        "import os\n",
        "import pandas as pd\n",
        "import numpy as np\n",
        "import scipy.sparse as sp\n",
        "import itertools\n",
        "from tqdm import tqdm\n",
        "\n",
        "import dgl\n",
        "from dgl.data import DGLDataset\n",
        "import dgl.nn as dglnn\n",
        "import networkx as nx\n",
        "import matplotlib.pyplot as plt\n",
        "import torch\n",
        "import torch.nn as nn\n",
        "import torch.nn.functional as F"
      ],
      "metadata": {
        "colab": {
          "base_uri": "https://localhost:8080/"
        },
        "id": "svNGQnoDOfZp",
        "outputId": "e518efde-7805-49b1-da60-ba52018f81d4"
      },
      "execution_count": null,
      "outputs": [
        {
          "output_type": "stream",
          "name": "stderr",
          "text": [
            "DGL backend not selected or invalid.  Assuming PyTorch for now.\n"
          ]
        },
        {
          "output_type": "stream",
          "name": "stdout",
          "text": [
            "Setting the default backend to \"pytorch\". You can change it in the ~/.dgl/config.json file or export the DGLBACKEND environment variable.  Valid options are: pytorch, mxnet, tensorflow (all lowercase)\n"
          ]
        }
      ]
    },
    {
      "cell_type": "markdown",
      "source": [
        "DATA LOADING"
      ],
      "metadata": {
        "id": "ax5exdxMT8ox"
      }
    },
    {
      "cell_type": "code",
      "source": [
        "content_path = \"/content/drive/MyDrive/CORA/cora.content\"\n",
        "cite_path = \"/content/drive/MyDrive/CORA/cora.cites\""
      ],
      "metadata": {
        "id": "Hl1dR-0KPYTD"
      },
      "execution_count": null,
      "outputs": []
    },
    {
      "cell_type": "markdown",
      "source": [
        "READING DATA"
      ],
      "metadata": {
        "id": "7BlWRCnYUHJY"
      }
    },
    {
      "cell_type": "code",
      "source": [
        "with open(content_path, \"r\") as fp:\n",
        "    contents = fp.readlines()\n",
        "with open(cite_path, \"r\") as fp:\n",
        "    cites = fp.readlines()"
      ],
      "metadata": {
        "id": "zEuF-XNsUGVV"
      },
      "execution_count": null,
      "outputs": []
    },
    {
      "cell_type": "markdown",
      "source": [
        "PARSING"
      ],
      "metadata": {
        "id": "O5MWUHsPUmy5"
      }
    },
    {
      "cell_type": "code",
      "source": [
        "contents = np.array([np.array(l.strip().split(\"\\t\")) for l in contents])\n",
        "paper_list, feat_list, label_list = np.split(contents, [1,-1], axis=1)\n",
        "paper_list, label_list = np.squeeze(paper_list), np.squeeze(label_list)"
      ],
      "metadata": {
        "id": "ry-r0_uRUJ4F"
      },
      "execution_count": null,
      "outputs": []
    },
    {
      "cell_type": "markdown",
      "source": [
        "Data Dictionary Creation"
      ],
      "metadata": {
        "id": "lVFHnImCUtGI"
      }
    },
    {
      "cell_type": "code",
      "source": [
        "paper_dict = dict([(key, val) for val, key in enumerate(paper_list)])\n",
        "labels = list(set(label_list))\n",
        "label_dict = dict([(key, val) for val, key in enumerate(labels)])"
      ],
      "metadata": {
        "id": "QfjQTUw5Upii"
      },
      "execution_count": null,
      "outputs": []
    },
    {
      "cell_type": "markdown",
      "source": [
        "Edge Generation"
      ],
      "metadata": {
        "id": "oB897RXCU3dJ"
      }
    },
    {
      "cell_type": "code",
      "source": [
        "cites = [i.strip().split(\"\\t\") for i in cites]\n",
        "cites = np.array([[paper_dict[i[0]], paper_dict[i[1]]] for i in cites],\n",
        "                 np.int64).T   # (2, edge)\n",
        "cites = np.concatenate((cites, cites[::-1, :]), axis=1)  # (2, 2*edge) or (2, E)"
      ],
      "metadata": {
        "id": "MPqE5XiPU0KR"
      },
      "execution_count": null,
      "outputs": []
    },
    {
      "cell_type": "markdown",
      "source": [
        "Degree Calculation:"
      ],
      "metadata": {
        "id": "vL1TxFnJVAhY"
      }
    },
    {
      "cell_type": "code",
      "source": [
        "_, degree_list = np.unique(cites[0,:], return_counts=True)"
      ],
      "metadata": {
        "id": "Bmhk1izUU6yw"
      },
      "execution_count": null,
      "outputs": []
    },
    {
      "cell_type": "markdown",
      "source": [
        "Preparing the input data for a graph-based machine learning"
      ],
      "metadata": {
        "id": "ub0Pt7p8U_st"
      }
    },
    {
      "cell_type": "code",
      "source": [
        "node_num = len(paper_list)\n",
        "feat_dim = feat_list.shape[1]\n",
        "stat_dim = 32\n",
        "num_class = len(labels)\n",
        "T = 2"
      ],
      "metadata": {
        "id": "lklGVl4XU81h"
      },
      "execution_count": null,
      "outputs": []
    },
    {
      "cell_type": "code",
      "source": [
        "feat_Matrix = torch.Tensor(feat_list.astype(np.float32))\n",
        "X_Node, X_Quote = np.split(cites, 2, axis=0)\n",
        "X_Node, X_Quote = torch.from_numpy(np.squeeze(X_Node)), \\\n",
        "                 torch.from_numpy(np.squeeze(X_Quote))\n",
        "label_list = np.array([label_dict[i] for i in label_list])\n",
        "label_list = torch.from_numpy(label_list)"
      ],
      "metadata": {
        "id": "dmD8ztXkcKcu"
      },
      "execution_count": null,
      "outputs": []
    },
    {
      "cell_type": "code",
      "source": [
        "print('Node:', X_Node)\n",
        "print('Quote:', X_Quote)\n",
        "print('label:', label_list)\n",
        "print('feat:', feat_Matrix)"
      ],
      "metadata": {
        "colab": {
          "base_uri": "https://localhost:8080/"
        },
        "id": "K07WttyOeeQY",
        "outputId": "99d45c8f-3523-448b-faf8-d58b80b020fa"
      },
      "execution_count": null,
      "outputs": [
        {
          "output_type": "stream",
          "name": "stdout",
          "text": [
            "Node: tensor([ 163,  163,  163,  ..., 2258, 1887, 1686])\n",
            "Quote: tensor([ 402,  659, 1696,  ..., 1887, 1902,  837])\n",
            "label: tensor([2, 1, 3,  ..., 5, 0, 2])\n",
            "feat: tensor([[0., 0., 0.,  ..., 0., 0., 0.],\n",
            "        [0., 0., 0.,  ..., 0., 0., 0.],\n",
            "        [0., 0., 0.,  ..., 0., 0., 0.],\n",
            "        ...,\n",
            "        [0., 0., 0.,  ..., 0., 0., 0.],\n",
            "        [0., 0., 0.,  ..., 0., 0., 0.],\n",
            "        [0., 0., 0.,  ..., 0., 0., 0.]])\n"
          ]
        }
      ]
    },
    {
      "cell_type": "markdown",
      "source": [
        "Creating a DGL (Deep Graph Library) graph object and adding node features and labels to it"
      ],
      "metadata": {
        "id": "nJUAhcLFfMST"
      }
    },
    {
      "cell_type": "code",
      "source": [
        "g = dgl.graph((X_Node, X_Quote), num_nodes=node_num)\n",
        "g.ndata['feat'] = feat_Matrix\n",
        "g.ndata['label'] = label_list"
      ],
      "metadata": {
        "id": "bBgt-_uge7KT"
      },
      "execution_count": null,
      "outputs": []
    },
    {
      "cell_type": "markdown",
      "source": [
        "Spliting the data"
      ],
      "metadata": {
        "id": "VCYoxjthfSkd"
      }
    },
    {
      "cell_type": "code",
      "source": [
        "n_nodes = node_num\n",
        "n_train = int(n_nodes * 0.6)\n",
        "n_val = int(n_nodes * 0.2)"
      ],
      "metadata": {
        "id": "_aLRrUVnfOZM"
      },
      "execution_count": null,
      "outputs": []
    },
    {
      "cell_type": "code",
      "source": [
        "train_mask = torch.zeros(n_nodes, dtype=torch.bool)\n",
        "val_mask = torch.zeros(n_nodes, dtype=torch.bool)\n",
        "test_mask = torch.zeros(n_nodes, dtype=torch.bool)\n",
        "train_mask[:n_train] = True\n",
        "val_mask[n_train:n_train + n_val] = True\n",
        "test_mask[n_train + n_val:] = True"
      ],
      "metadata": {
        "id": "L12AwvxafX9r"
      },
      "execution_count": null,
      "outputs": []
    },
    {
      "cell_type": "code",
      "source": [
        "g.ndata['train_mask'] = train_mask\n",
        "g.ndata['val_mask'] = val_mask\n",
        "g.ndata['test_mask'] = test_mask"
      ],
      "metadata": {
        "id": "7SzjeZ0nfcGu"
      },
      "execution_count": null,
      "outputs": []
    },
    {
      "cell_type": "code",
      "source": [
        "print('Graph summary')\n",
        "print(g)\n",
        "print('Node features')\n",
        "print(g.ndata)\n",
        "print('Edge features')\n",
        "print(g.edata)"
      ],
      "metadata": {
        "colab": {
          "base_uri": "https://localhost:8080/"
        },
        "id": "BlwNQT6yfcf1",
        "outputId": "cf2b022d-fa9f-4ea1-f36a-24fa3ae22d66"
      },
      "execution_count": null,
      "outputs": [
        {
          "output_type": "stream",
          "name": "stdout",
          "text": [
            "Graph summary\n",
            "Graph(num_nodes=2708, num_edges=10858,\n",
            "      ndata_schemes={'feat': Scheme(shape=(1433,), dtype=torch.float32), 'label': Scheme(shape=(), dtype=torch.int64), 'train_mask': Scheme(shape=(), dtype=torch.bool), 'val_mask': Scheme(shape=(), dtype=torch.bool), 'test_mask': Scheme(shape=(), dtype=torch.bool)}\n",
            "      edata_schemes={})\n",
            "Node features\n",
            "{'feat': tensor([[0., 0., 0.,  ..., 0., 0., 0.],\n",
            "        [0., 0., 0.,  ..., 0., 0., 0.],\n",
            "        [0., 0., 0.,  ..., 0., 0., 0.],\n",
            "        ...,\n",
            "        [0., 0., 0.,  ..., 0., 0., 0.],\n",
            "        [0., 0., 0.,  ..., 0., 0., 0.],\n",
            "        [0., 0., 0.,  ..., 0., 0., 0.]]), 'label': tensor([2, 1, 3,  ..., 5, 0, 2]), 'train_mask': tensor([ True,  True,  True,  ..., False, False, False]), 'val_mask': tensor([False, False, False,  ..., False, False, False]), 'test_mask': tensor([False, False, False,  ...,  True,  True,  True])}\n",
            "Edge features\n",
            "{}\n"
          ]
        }
      ]
    },
    {
      "cell_type": "code",
      "source": [
        "from dgl.nn import GraphConv\n",
        "class GCN(nn.Module):\n",
        "    def __init__(self, in_feats, h_feats, num_classes):\n",
        "        super(GCN, self).__init__()\n",
        "        self.conv1 = GraphConv(in_feats, h_feats)\n",
        "        self.conv2 = GraphConv(h_feats, num_classes)\n",
        "\n",
        "    def forward(self, g, in_feat):\n",
        "        h = self.conv1(g, in_feat)\n",
        "        h = F.relu(h)\n",
        "        h = self.conv2(g, h)\n",
        "        return h"
      ],
      "metadata": {
        "id": "7orE_G8WfeMf"
      },
      "execution_count": null,
      "outputs": []
    },
    {
      "cell_type": "code",
      "source": [
        "features = g.ndata['feat']\n",
        "labels = g.ndata['label']\n",
        "train_mask = g.ndata['train_mask']\n",
        "val_mask = g.ndata['val_mask']\n",
        "test_mask = g.ndata['test_mask']"
      ],
      "metadata": {
        "id": "Coy6jbumgyay"
      },
      "execution_count": null,
      "outputs": []
    },
    {
      "cell_type": "markdown",
      "source": [
        "Training"
      ],
      "metadata": {
        "id": "nwCvwg8QhWIS"
      }
    },
    {
      "cell_type": "code",
      "source": [
        "def train(g, model, epoch, lr):\n",
        "    optimizer = torch.optim.Adam(model.parameters(), lr=lr)\n",
        "    best_val_acc = 0\n",
        "    best_test_acc = 0\n",
        "\n",
        "    for e in range(epoch):\n",
        "        # Forward\n",
        "        logits = model(g, features)\n",
        "\n",
        "        # Compute prediction\n",
        "        pred = logits.argmax(1)\n",
        "\n",
        "        # Compute loss\n",
        "        # Note that you should only compute the losses of the nodes in the training set.\n",
        "        loss = F.cross_entropy(logits[train_mask], labels[train_mask])\n",
        "\n",
        "        # Compute accuracy on training/validation/test\n",
        "        train_acc = (pred[train_mask] == labels[train_mask]).float().mean()\n",
        "        val_acc = (pred[val_mask] == labels[val_mask]).float().mean()\n",
        "        test_acc = (pred[test_mask] == labels[test_mask]).float().mean()\n",
        "\n",
        "        # Save the best validation accuracy and the corresponding test accuracy.\n",
        "        if best_val_acc < val_acc:\n",
        "            best_val_acc = val_acc\n",
        "            best_test_acc = test_acc\n",
        "\n",
        "        # Backward\n",
        "        optimizer.zero_grad()\n",
        "        loss.backward()\n",
        "        optimizer.step()\n",
        "\n",
        "        if e % 50 == 0:\n",
        "            print('In epoch {}, loss: {:.3f}, val acc: {:.3f} (best {:.3f}), test acc: {:.3f} (best {:.3f})'.format(\n",
        "                e, loss, val_acc, best_val_acc, test_acc, best_test_acc))"
      ],
      "metadata": {
        "id": "IVPO1PcUgs3u"
      },
      "execution_count": null,
      "outputs": []
    },
    {
      "cell_type": "markdown",
      "source": [
        "Create the model with given dimensions"
      ],
      "metadata": {
        "id": "Zm5sHOLOhZc6"
      }
    },
    {
      "cell_type": "code",
      "source": [
        "model = GCN(g.ndata['feat'].shape[1], 16, len(g.ndata['label'].unique()))\n",
        "train(g, model, epoch = 500, lr = 0.001)"
      ],
      "metadata": {
        "colab": {
          "base_uri": "https://localhost:8080/"
        },
        "id": "FBOpO9iLhFOD",
        "outputId": "778f8d2d-fa5b-479a-e62b-e536c659c981"
      },
      "execution_count": null,
      "outputs": [
        {
          "output_type": "stream",
          "name": "stdout",
          "text": [
            "In epoch 0, loss: 1.947, val acc: 0.074 (best 0.074), test acc: 0.092 (best 0.092)\n",
            "In epoch 50, loss: 1.318, val acc: 0.749 (best 0.749), test acc: 0.689 (best 0.689)\n",
            "In epoch 100, loss: 0.772, val acc: 0.800 (best 0.800), test acc: 0.759 (best 0.759)\n",
            "In epoch 150, loss: 0.489, val acc: 0.843 (best 0.843), test acc: 0.785 (best 0.783)\n",
            "In epoch 200, loss: 0.351, val acc: 0.839 (best 0.845), test acc: 0.790 (best 0.794)\n",
            "In epoch 250, loss: 0.274, val acc: 0.843 (best 0.847), test acc: 0.790 (best 0.792)\n",
            "In epoch 300, loss: 0.225, val acc: 0.837 (best 0.847), test acc: 0.786 (best 0.792)\n",
            "In epoch 350, loss: 0.191, val acc: 0.837 (best 0.847), test acc: 0.790 (best 0.792)\n",
            "In epoch 400, loss: 0.165, val acc: 0.834 (best 0.847), test acc: 0.792 (best 0.792)\n",
            "In epoch 450, loss: 0.144, val acc: 0.832 (best 0.847), test acc: 0.796 (best 0.792)\n"
          ]
        }
      ]
    }
  ],
  "metadata": {
    "colab": {
      "provenance": [],
      "include_colab_link": true
    },
    "kernelspec": {
      "display_name": "Python 3",
      "name": "python3"
    },
    "language_info": {
      "name": "python"
    }
  },
  "nbformat": 4,
  "nbformat_minor": 0
}